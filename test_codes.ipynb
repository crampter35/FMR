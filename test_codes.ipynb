{
 "cells": [
  {
   "cell_type": "code",
   "execution_count": 125,
   "metadata": {},
   "outputs": [],
   "source": [
    "import random\n",
    "\n",
    "import numpy as np\n",
    "from matplotlib import pyplot as plt\n",
    "\n",
    "from extended_voronoi import ExtendedVoronoi\n",
    "from geometry_tools import Point, Polygon\n",
    "\n",
    "from lloyd_algorithm import ContinuousLloydAlgorithm\n",
    "import os"
   ]
  },
  {
   "cell_type": "code",
   "execution_count": 128,
   "metadata": {},
   "outputs": [],
   "source": [
    "def run_lloyd_algorithm(boundary, num_prototypes):\n",
    "    lloyd = ContinuousLloydAlgorithm(boundary, num_prototypes)\n",
    "    dst = lloyd.distortion\n",
    "    #idx_iteration = 0\n",
    "    while True:\n",
    "        \n",
    "        lloyd.single_iteration()\n",
    "        #idx_iteration += 1\n",
    "        if abs(dst - lloyd.distortion) < 0.001:\n",
    "            break\n",
    "        dst = lloyd.distortion\n",
    "    \n",
    "    #coords = [(point.x , point.y) for point in lloyd.prototypes]\n",
    "    \n",
    "    return lloyd"
   ]
  },
  {
   "cell_type": "code",
   "execution_count": 138,
   "metadata": {},
   "outputs": [],
   "source": [
    "\n",
    "def run_simulation(n, boundary, num_prototypes, output_file='lloyd_simulation.npy'):\n",
    "    \n",
    "    directory = \"resultats\"\n",
    "    if not os.path.exists(directory):\n",
    "        os.makedirs(directory)\n",
    "    \n",
    "    \n",
    "    output_path = os.path.join(directory, output_file)\n",
    "    \n",
    "    prototypes_list = []\n",
    "    polygon_list_list = []\n",
    "    distortion_list = []\n",
    "    \n",
    "    for i in range(n):\n",
    "        lloyd = run_lloyd_algorithm(boundary=boundary, num_prototypes=num_prototypes)\n",
    "        proto = [(point.x , point.y) for point in lloyd.prototypes]\n",
    "        poly = [Point.points_to_coords(p.vertices) for _, p in lloyd.polygon_list]\n",
    "\n",
    "        prototypes_list.append(np.array(proto))\n",
    "        polygon_list_list.append([np.array(p) for p in poly])\n",
    "        distortion_list.append(lloyd.distortion)\n",
    "    \n",
    "    # Conversion des listes en objets numpy\n",
    "    results = {\n",
    "        'prototypes': np.array(prototypes_list, dtype=object),\n",
    "        'polygons': np.array(polygon_list_list, dtype=object),\n",
    "        'distortion': np.array(distortion_list)\n",
    "    }\n",
    "    \n",
    "    \n",
    "    np.save(output_path, results)\n",
    "    \n",
    "    return results\n"
   ]
  },
  {
   "cell_type": "code",
   "execution_count": null,
   "metadata": {},
   "outputs": [],
   "source": [
    "run_simulation(n= 5, boundary= boundary, num_prototypes= num_prototypes)"
   ]
  },
  {
   "cell_type": "code",
   "execution_count": 140,
   "metadata": {},
   "outputs": [],
   "source": [
    "loaded_results = np.load('resultats/lloyd_simulation.npy', allow_pickle=True).item()"
   ]
  },
  {
   "cell_type": "code",
   "execution_count": 152,
   "metadata": {},
   "outputs": [
    {
     "data": {
      "text/plain": [
       "dict_keys(['prototypes', 'polygons', 'distortion'])"
      ]
     },
     "execution_count": 152,
     "metadata": {},
     "output_type": "execute_result"
    }
   ],
   "source": [
    "loaded_results.keys()"
   ]
  },
  {
   "cell_type": "code",
   "execution_count": 153,
   "metadata": {},
   "outputs": [
    {
     "data": {
      "text/plain": [
       "array([array([[308.21140859, 314.53049732],\n",
       "              [203.95145813, 419.73228039],\n",
       "              [380.25561249, 596.02193878],\n",
       "              [485.44384137, 491.79471653],\n",
       "              [471.20298624, 328.81266798]]),\n",
       "       array([[308.21140859, 314.53049732],\n",
       "              [250.18308015, 100.        ],\n",
       "              [100.        , 100.        ],\n",
       "              [100.        , 430.20995899],\n",
       "              [203.95145813, 419.73228039]]),\n",
       "       array([[380.25561249, 596.02193878],\n",
       "              [203.95145813, 419.73228039],\n",
       "              [100.        , 430.20995899],\n",
       "              [100.        , 700.        ],\n",
       "              [369.76961301, 700.        ]]),\n",
       "       array([[471.20298624, 328.81266798],\n",
       "              [485.44384137, 491.79471653],\n",
       "              [700.        , 549.86440386],\n",
       "              [700.        , 310.34276115],\n",
       "              [490.22135796, 309.79759378]]),\n",
       "       array([[485.44384137, 491.79471653],\n",
       "              [380.25561249, 596.02193878],\n",
       "              [369.76961301, 700.        ],\n",
       "              [700.        , 700.        ],\n",
       "              [700.        , 549.86440386]]),\n",
       "       array([[700.        , 310.34276115],\n",
       "              [700.        , 100.        ],\n",
       "              [489.69297372, 100.        ],\n",
       "              [490.22135796, 309.79759378]]),\n",
       "       array([[308.21140859, 314.53049732],\n",
       "              [471.20298624, 328.81266798],\n",
       "              [490.22135796, 309.79759378],\n",
       "              [489.69297372, 100.        ],\n",
       "              [250.18308015, 100.        ]])], dtype=object)"
      ]
     },
     "execution_count": 153,
     "metadata": {},
     "output_type": "execute_result"
    }
   ],
   "source": [
    "(loaded_results['polygons'][0])"
   ]
  },
  {
   "cell_type": "code",
   "execution_count": 31,
   "metadata": {},
   "outputs": [],
   "source": [
    "import time"
   ]
  },
  {
   "cell_type": "code",
   "execution_count": 115,
   "metadata": {},
   "outputs": [],
   "source": [
    "boundary = [[100, 100], [700, 100], [700, 700], [100, 700]]\n",
    "num_prototypes = 7"
   ]
  },
  {
   "cell_type": "code",
   "execution_count": 43,
   "metadata": {},
   "outputs": [],
   "source": [
    "list_max_it = []\n",
    "for i in range(100):\n",
    "    _,_,it= run_lloyd_algorithm(boundary= boundary, num_prototypes= num_prototypes)\n",
    "    list_max_it.append(it)"
   ]
  },
  {
   "cell_type": "code",
   "execution_count": 55,
   "metadata": {},
   "outputs": [
    {
     "name": "stdout",
     "output_type": "stream",
     "text": [
      "0.8780717849731445\n"
     ]
    }
   ],
   "source": [
    "start = time.time()\n",
    "distortion, coords,_ = run_lloyd_algorithm(boundary= boundary, num_prototypes= num_prototypes)\n",
    "end = time.time()\n",
    "print(end - start)"
   ]
  },
  {
   "cell_type": "code",
   "execution_count": 129,
   "metadata": {},
   "outputs": [],
   "source": [
    "llo = run_lloyd_algorithm(boundary= boundary, num_prototypes= num_prototypes)"
   ]
  },
  {
   "cell_type": "code",
   "execution_count": 137,
   "metadata": {},
   "outputs": [],
   "source": [
    "lp = [Point.points_to_coords(p.vertices) for _, p in llo.polygon_list]"
   ]
  },
  {
   "cell_type": "code",
   "execution_count": 134,
   "metadata": {},
   "outputs": [
    {
     "data": {
      "text/plain": [
       "7"
      ]
     },
     "execution_count": 134,
     "metadata": {},
     "output_type": "execute_result"
    }
   ],
   "source": []
  },
  {
   "cell_type": "code",
   "execution_count": 154,
   "metadata": {},
   "outputs": [
    {
     "name": "stdout",
     "output_type": "stream",
     "text": [
      "9219.024629016107\n"
     ]
    },
    {
     "data": {
      "image/png": "[encoded data removed]",
      "text/plain": [
       "<Figure size 640x480 with 1 Axes>"
      ]
     },
     "metadata": {},
     "output_type": "display_data"
    }
   ],
   "source": [
    "llo= run_lloyd_algorithm(boundary= boundary, num_prototypes= num_prototypes)\n",
    "for i, (_, p) in enumerate(llo.polygon_list):\n",
    "    polygon_coords = Point.points_to_coords(p.vertices)\n",
    "    x_p  = [x for x, y in polygon_coords]\n",
    "    y_p  = [y for x, y in polygon_coords]\n",
    "    plt.scatter(x_p, y_p)\n",
    "\n",
    "print(llo.distortion)   "
   ]
  },
  {
   "cell_type": "code",
   "execution_count": 73,
   "metadata": {},
   "outputs": [],
   "source": [
    "test_poly = [(487.32360783682964, 263.55193291510324), (526.1350205233896, 100.0), (274.29243135423667, 100.0), (312.81017894172624, 263.15660080824637)]\n",
    "x_p = [x for x, y in test_poly]\n",
    "y_p = [y for x, y in test_poly]"
   ]
  },
  {
   "cell_type": "code",
   "execution_count": 75,
   "metadata": {},
   "outputs": [
    {
     "data": {
      "text/plain": [
       "<matplotlib.collections.PathCollection at 0x1a2e9406120>"
      ]
     },
     "execution_count": 75,
     "metadata": {},
     "output_type": "execute_result"
    },
    {
     "data": {
      "image/png": "[encoded data removed]",
      "text/plain": [
       "<Figure size 640x480 with 1 Axes>"
      ]
     },
     "metadata": {},
     "output_type": "display_data"
    }
   ],
   "source": [
    "plt.scatter(x_p, y_p)"
   ]
  },
  {
   "cell_type": "code",
   "execution_count": 69,
   "metadata": {},
   "outputs": [
    {
     "data": {
      "text/plain": [
       "[(400.2320926587402, 176.73516354036678),\n",
       " (399.93405540198484, 523.2362081397748),\n",
       " (604.1364951219713, 225.12235023729673),\n",
       " (604.0291763246316, 474.9816477645745),\n",
       " (195.96804703089222, 224.9574905054873),\n",
       " (399.83964968120466, 349.97322963128545),\n",
       " (195.86799133419947, 474.93600295389064)]"
      ]
     },
     "execution_count": 69,
     "metadata": {},
     "output_type": "execute_result"
    }
   ],
   "source": [
    "[(point.x , point.y) for point in llo.prototypes]"
   ]
  },
  {
   "cell_type": "code",
   "execution_count": 28,
   "metadata": {},
   "outputs": [
    {
     "data": {
      "text/plain": [
       "11.574074074074074"
      ]
     },
     "execution_count": 28,
     "metadata": {},
     "output_type": "execute_result"
    }
   ],
   "source": [
    "((1000000/60)/60)/24"
   ]
  },
  {
   "cell_type": "code",
   "execution_count": 24,
   "metadata": {},
   "outputs": [
    {
     "data": {
      "text/plain": [
       "[(205.66849629222176, 181.05588598383184),\n",
       " (604.5027749659703, 225.17959618436882),\n",
       " (413.1672800430027, 476.8724495532153),\n",
       " (413.4605513987756, 223.46571537886425),\n",
       " (217.83115401566204, 349.9372418895556),\n",
       " (604.3595374375038, 474.6135768797176),\n",
       " (205.45363889753074, 518.8563130824571)]"
      ]
     },
     "execution_count": 24,
     "metadata": {},
     "output_type": "execute_result"
    }
   ],
   "source": [
    "coords.sort()"
   ]
  }
 ],
 "metadata": {
  "kernelspec": {
   "display_name": "Python 3",
   "language": "python",
   "name": "python3"
  },
  "language_info": {
   "codemirror_mode": {
    "name": "ipython",
    "version": 3
   },
   "file_extension": ".py",
   "mimetype": "text/x-python",
   "name": "python",
   "nbconvert_exporter": "python",
   "pygments_lexer": "ipython3",
   "version": "3.12.6"
  }
 },
 "nbformat": 4,
 "nbformat_minor": 2
}
